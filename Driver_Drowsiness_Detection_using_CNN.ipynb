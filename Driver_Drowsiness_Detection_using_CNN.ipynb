{
  "cells": [
    {
      "cell_type": "markdown",
      "id": "ebcbd970",
      "metadata": {
        "id": "ebcbd970"
      },
      "source": [
        "# Driver Drowsiness detection using CNN "
      ]
    },
    {
      "cell_type": "markdown",
      "id": "ef5e872e",
      "metadata": {
        "id": "ef5e872e"
      },
      "source": [
        "# Modules"
      ]
    },
    {
      "cell_type": "code",
      "execution_count": null,
      "id": "f0a166ea",
      "metadata": {
        "id": "f0a166ea",
        "outputId": "f6a36035-4ecb-4245-f17e-07f5144b857f",
        "colab": {
          "base_uri": "https://localhost:8080/"
        }
      },
      "outputs": [
        {
          "output_type": "stream",
          "name": "stdout",
          "text": [
            "Requirement already satisfied: tensorflow in /usr/local/lib/python3.7/dist-packages (2.8.0)\n",
            "Requirement already satisfied: grpcio<2.0,>=1.24.3 in /usr/local/lib/python3.7/dist-packages (from tensorflow) (1.44.0)\n",
            "Requirement already satisfied: absl-py>=0.4.0 in /usr/local/lib/python3.7/dist-packages (from tensorflow) (1.0.0)\n",
            "Requirement already satisfied: keras-preprocessing>=1.1.1 in /usr/local/lib/python3.7/dist-packages (from tensorflow) (1.1.2)\n",
            "Requirement already satisfied: setuptools in /usr/local/lib/python3.7/dist-packages (from tensorflow) (57.4.0)\n",
            "Requirement already satisfied: tensorflow-io-gcs-filesystem>=0.23.1 in /usr/local/lib/python3.7/dist-packages (from tensorflow) (0.25.0)\n",
            "Requirement already satisfied: wrapt>=1.11.0 in /usr/local/lib/python3.7/dist-packages (from tensorflow) (1.14.0)\n",
            "Requirement already satisfied: astunparse>=1.6.0 in /usr/local/lib/python3.7/dist-packages (from tensorflow) (1.6.3)\n",
            "Requirement already satisfied: google-pasta>=0.1.1 in /usr/local/lib/python3.7/dist-packages (from tensorflow) (0.2.0)\n",
            "Requirement already satisfied: numpy>=1.20 in /usr/local/lib/python3.7/dist-packages (from tensorflow) (1.21.6)\n",
            "Requirement already satisfied: tensorboard<2.9,>=2.8 in /usr/local/lib/python3.7/dist-packages (from tensorflow) (2.8.0)\n",
            "Requirement already satisfied: termcolor>=1.1.0 in /usr/local/lib/python3.7/dist-packages (from tensorflow) (1.1.0)\n",
            "Requirement already satisfied: typing-extensions>=3.6.6 in /usr/local/lib/python3.7/dist-packages (from tensorflow) (4.2.0)\n",
            "Requirement already satisfied: gast>=0.2.1 in /usr/local/lib/python3.7/dist-packages (from tensorflow) (0.5.3)\n",
            "Requirement already satisfied: opt-einsum>=2.3.2 in /usr/local/lib/python3.7/dist-packages (from tensorflow) (3.3.0)\n",
            "Requirement already satisfied: libclang>=9.0.1 in /usr/local/lib/python3.7/dist-packages (from tensorflow) (14.0.1)\n",
            "Requirement already satisfied: protobuf>=3.9.2 in /usr/local/lib/python3.7/dist-packages (from tensorflow) (3.17.3)\n",
            "Requirement already satisfied: keras<2.9,>=2.8.0rc0 in /usr/local/lib/python3.7/dist-packages (from tensorflow) (2.8.0)\n",
            "Requirement already satisfied: six>=1.12.0 in /usr/local/lib/python3.7/dist-packages (from tensorflow) (1.15.0)\n",
            "Requirement already satisfied: flatbuffers>=1.12 in /usr/local/lib/python3.7/dist-packages (from tensorflow) (2.0)\n",
            "Requirement already satisfied: h5py>=2.9.0 in /usr/local/lib/python3.7/dist-packages (from tensorflow) (3.1.0)\n",
            "Collecting tf-estimator-nightly==2.8.0.dev2021122109\n",
            "  Downloading tf_estimator_nightly-2.8.0.dev2021122109-py2.py3-none-any.whl (462 kB)\n",
            "\u001b[K     |████████████████████████████████| 462 kB 4.1 MB/s \n",
            "\u001b[?25hRequirement already satisfied: wheel<1.0,>=0.23.0 in /usr/local/lib/python3.7/dist-packages (from astunparse>=1.6.0->tensorflow) (0.37.1)\n",
            "Requirement already satisfied: cached-property in /usr/local/lib/python3.7/dist-packages (from h5py>=2.9.0->tensorflow) (1.5.2)\n",
            "Requirement already satisfied: requests<3,>=2.21.0 in /usr/local/lib/python3.7/dist-packages (from tensorboard<2.9,>=2.8->tensorflow) (2.23.0)\n",
            "Requirement already satisfied: google-auth-oauthlib<0.5,>=0.4.1 in /usr/local/lib/python3.7/dist-packages (from tensorboard<2.9,>=2.8->tensorflow) (0.4.6)\n",
            "Requirement already satisfied: werkzeug>=0.11.15 in /usr/local/lib/python3.7/dist-packages (from tensorboard<2.9,>=2.8->tensorflow) (1.0.1)\n",
            "Requirement already satisfied: google-auth<3,>=1.6.3 in /usr/local/lib/python3.7/dist-packages (from tensorboard<2.9,>=2.8->tensorflow) (1.35.0)\n",
            "Requirement already satisfied: tensorboard-plugin-wit>=1.6.0 in /usr/local/lib/python3.7/dist-packages (from tensorboard<2.9,>=2.8->tensorflow) (1.8.1)\n",
            "Requirement already satisfied: tensorboard-data-server<0.7.0,>=0.6.0 in /usr/local/lib/python3.7/dist-packages (from tensorboard<2.9,>=2.8->tensorflow) (0.6.1)\n",
            "Requirement already satisfied: markdown>=2.6.8 in /usr/local/lib/python3.7/dist-packages (from tensorboard<2.9,>=2.8->tensorflow) (3.3.6)\n",
            "Requirement already satisfied: cachetools<5.0,>=2.0.0 in /usr/local/lib/python3.7/dist-packages (from google-auth<3,>=1.6.3->tensorboard<2.9,>=2.8->tensorflow) (4.2.4)\n",
            "Requirement already satisfied: rsa<5,>=3.1.4 in /usr/local/lib/python3.7/dist-packages (from google-auth<3,>=1.6.3->tensorboard<2.9,>=2.8->tensorflow) (4.8)\n",
            "Requirement already satisfied: pyasn1-modules>=0.2.1 in /usr/local/lib/python3.7/dist-packages (from google-auth<3,>=1.6.3->tensorboard<2.9,>=2.8->tensorflow) (0.2.8)\n",
            "Requirement already satisfied: requests-oauthlib>=0.7.0 in /usr/local/lib/python3.7/dist-packages (from google-auth-oauthlib<0.5,>=0.4.1->tensorboard<2.9,>=2.8->tensorflow) (1.3.1)\n",
            "Requirement already satisfied: importlib-metadata>=4.4 in /usr/local/lib/python3.7/dist-packages (from markdown>=2.6.8->tensorboard<2.9,>=2.8->tensorflow) (4.11.3)\n",
            "Requirement already satisfied: zipp>=0.5 in /usr/local/lib/python3.7/dist-packages (from importlib-metadata>=4.4->markdown>=2.6.8->tensorboard<2.9,>=2.8->tensorflow) (3.8.0)\n",
            "Requirement already satisfied: pyasn1<0.5.0,>=0.4.6 in /usr/local/lib/python3.7/dist-packages (from pyasn1-modules>=0.2.1->google-auth<3,>=1.6.3->tensorboard<2.9,>=2.8->tensorflow) (0.4.8)\n",
            "Requirement already satisfied: idna<3,>=2.5 in /usr/local/lib/python3.7/dist-packages (from requests<3,>=2.21.0->tensorboard<2.9,>=2.8->tensorflow) (2.10)\n",
            "Requirement already satisfied: urllib3!=1.25.0,!=1.25.1,<1.26,>=1.21.1 in /usr/local/lib/python3.7/dist-packages (from requests<3,>=2.21.0->tensorboard<2.9,>=2.8->tensorflow) (1.24.3)\n",
            "Requirement already satisfied: chardet<4,>=3.0.2 in /usr/local/lib/python3.7/dist-packages (from requests<3,>=2.21.0->tensorboard<2.9,>=2.8->tensorflow) (3.0.4)\n",
            "Requirement already satisfied: certifi>=2017.4.17 in /usr/local/lib/python3.7/dist-packages (from requests<3,>=2.21.0->tensorboard<2.9,>=2.8->tensorflow) (2021.10.8)\n",
            "Requirement already satisfied: oauthlib>=3.0.0 in /usr/local/lib/python3.7/dist-packages (from requests-oauthlib>=0.7.0->google-auth-oauthlib<0.5,>=0.4.1->tensorboard<2.9,>=2.8->tensorflow) (3.2.0)\n",
            "Installing collected packages: tf-estimator-nightly\n",
            "Successfully installed tf-estimator-nightly-2.8.0.dev2021122109\n"
          ]
        }
      ],
      "source": [
        "pip install tensorflow"
      ]
    },
    {
      "cell_type": "code",
      "execution_count": null,
      "id": "800b7f9b",
      "metadata": {
        "id": "800b7f9b",
        "colab": {
          "base_uri": "https://localhost:8080/"
        },
        "outputId": "339e3432-055c-4aaf-e5cb-dbac896a6461"
      },
      "outputs": [
        {
          "output_type": "stream",
          "name": "stdout",
          "text": [
            "Collecting face_recognition\n",
            "  Downloading face_recognition-1.3.0-py2.py3-none-any.whl (15 kB)\n",
            "Requirement already satisfied: dlib>=19.7 in /usr/local/lib/python3.7/dist-packages (from face_recognition) (19.18.0)\n",
            "Collecting face-recognition-models>=0.3.0\n",
            "  Downloading face_recognition_models-0.3.0.tar.gz (100.1 MB)\n",
            "\u001b[K     |████████████████████████████████| 100.1 MB 20 kB/s \n",
            "\u001b[?25hRequirement already satisfied: Pillow in /usr/local/lib/python3.7/dist-packages (from face_recognition) (7.1.2)\n",
            "Requirement already satisfied: Click>=6.0 in /usr/local/lib/python3.7/dist-packages (from face_recognition) (7.1.2)\n",
            "Requirement already satisfied: numpy in /usr/local/lib/python3.7/dist-packages (from face_recognition) (1.21.6)\n",
            "Building wheels for collected packages: face-recognition-models\n",
            "  Building wheel for face-recognition-models (setup.py) ... \u001b[?25l\u001b[?25hdone\n",
            "  Created wheel for face-recognition-models: filename=face_recognition_models-0.3.0-py2.py3-none-any.whl size=100566186 sha256=39100e425c5a73676f5f279370063dd454d007fd24eff99c77fa291b49955e46\n",
            "  Stored in directory: /root/.cache/pip/wheels/d6/81/3c/884bcd5e1c120ff548d57c2ecc9ebf3281c9a6f7c0e7e7947a\n",
            "Successfully built face-recognition-models\n",
            "Installing collected packages: face-recognition-models, face-recognition\n",
            "Successfully installed face-recognition-1.3.0 face-recognition-models-0.3.0\n"
          ]
        }
      ],
      "source": [
        "pip install face_recognition"
      ]
    },
    {
      "cell_type": "code",
      "source": [
        "pip install pygobject"
      ],
      "metadata": {
        "colab": {
          "base_uri": "https://localhost:8080/"
        },
        "id": "gONsAJRNtFsi",
        "outputId": "ef427f26-13ad-4b1a-88da-1b0e87520eca"
      },
      "id": "gONsAJRNtFsi",
      "execution_count": null,
      "outputs": [
        {
          "output_type": "stream",
          "name": "stdout",
          "text": [
            "Requirement already satisfied: pygobject in /usr/lib/python3/dist-packages (3.26.1)\n"
          ]
        }
      ]
    },
    {
      "cell_type": "code",
      "source": [
        "pip install playsound"
      ],
      "metadata": {
        "colab": {
          "base_uri": "https://localhost:8080/"
        },
        "id": "9Gqq1OHgpSjo",
        "outputId": "b01aa305-ce47-49d2-85f5-56d1b4c3521b"
      },
      "id": "9Gqq1OHgpSjo",
      "execution_count": null,
      "outputs": [
        {
          "output_type": "stream",
          "name": "stdout",
          "text": [
            "Collecting playsound\n",
            "  Downloading playsound-1.3.0.tar.gz (7.7 kB)\n",
            "Building wheels for collected packages: playsound\n",
            "  Building wheel for playsound (setup.py) ... \u001b[?25l\u001b[?25hdone\n",
            "  Created wheel for playsound: filename=playsound-1.3.0-py3-none-any.whl size=7035 sha256=57db7f14ae01c2eae715c60905fecfe1cda0b88cf8bdc9a6af86705b2fb7680b\n",
            "  Stored in directory: /root/.cache/pip/wheels/ba/f8/bb/ea57c0146b664dca3a0ada4199b0ecb5f9dfcb7b7e22b65ba2\n",
            "Successfully built playsound\n",
            "Installing collected packages: playsound\n",
            "Successfully installed playsound-1.3.0\n"
          ]
        }
      ]
    },
    {
      "cell_type": "code",
      "execution_count": null,
      "id": "51e1bd2e",
      "metadata": {
        "id": "51e1bd2e",
        "colab": {
          "base_uri": "https://localhost:8080/"
        },
        "outputId": "b5fe67f1-44b5-4aeb-b077-b1ed6a56034c"
      },
      "outputs": [
        {
          "output_type": "stream",
          "name": "stderr",
          "text": [
            "playsound is relying on another python subprocess. Please use `pip install pygobject` if you want playsound to run more efficiently.\n"
          ]
        }
      ],
      "source": [
        "from tensorflow.keras.layers import Conv2D, MaxPooling2D, Dense, Flatten, Dropout\n",
        "from tensorflow.keras.preprocessing.image import ImageDataGenerator\n",
        "from tensorflow.keras.wrappers.scikit_learn import KerasClassifier\n",
        "from tensorflow.keras.models import Sequential, load_model\n",
        "from sklearn.model_selection import train_test_split\n",
        "from sklearn.metrics import confusion_matrix\n",
        "from tensorflow.keras.utils import to_categorical\n",
        "from tensorflow.keras.optimizers import Adam\n",
        "from PIL import Image, ImageDraw\n",
        "from playsound import playsound\n",
        "import matplotlib.pyplot as plt\n",
        "from tensorflow import keras\n",
        "import face_recognition\n",
        "import tensorflow as tf\n",
        "import pandas as pd\n",
        "import numpy as np\n",
        "import random\n",
        "import cv2\n",
        "import os"
      ]
    },
    {
      "cell_type": "markdown",
      "id": "7b4e097e",
      "metadata": {
        "id": "7b4e097e"
      },
      "source": [
        "# PARAMETERS"
      ]
    },
    {
      "cell_type": "code",
      "execution_count": null,
      "id": "ebfbbdc6",
      "metadata": {
        "id": "ebfbbdc6"
      },
      "outputs": [],
      "source": [
        "batch_size_val = 80  # how many to process together\n",
        "epochs_val = 100\n",
        "noOfClasses=2\n",
        "imageDimesions = (80, 80,3) \n",
        "testRatio = 0.2  # if 1000 images split will 200 for testing\n",
        "validationRatio = 0.2  # if 1000 images 20% of remaining 800 will be 160 for validation"
      ]
    },
    {
      "cell_type": "markdown",
      "id": "9cf3d133",
      "metadata": {
        "id": "9cf3d133"
      },
      "source": [
        "# EYE Cropping from full face images"
      ]
    },
    {
      "cell_type": "markdown",
      "id": "259b63ff",
      "metadata": {
        "id": "259b63ff"
      },
      "source": [
        "# FOR OPEN EYES"
      ]
    },
    {
      "cell_type": "code",
      "source": [
        "from google.colab import drive\n",
        "drive.mount('/content/drive')"
      ],
      "metadata": {
        "colab": {
          "base_uri": "https://localhost:8080/"
        },
        "id": "ZqWzLAZHg9-l",
        "outputId": "c48c7c77-68f7-4ed5-ead6-0f642e562d55"
      },
      "id": "ZqWzLAZHg9-l",
      "execution_count": null,
      "outputs": [
        {
          "output_type": "stream",
          "name": "stdout",
          "text": [
            "Mounted at /content/drive\n"
          ]
        }
      ]
    },
    {
      "cell_type": "code",
      "execution_count": null,
      "id": "61ce7bdf",
      "metadata": {
        "id": "61ce7bdf",
        "outputId": "dd933dd6-6c3b-4e06-f415-ea8c114797f5",
        "colab": {
          "base_uri": "https://localhost:8080/"
        }
      },
      "outputs": [
        {
          "output_type": "stream",
          "name": "stdout",
          "text": [
            "Successfully saved 200 images\n",
            "Successfully saved 400 images\n",
            "Successfully saved 600 images\n",
            "Successfully saved 800 images\n",
            "Successfully saved 1000 images\n",
            "Successfully saved 1200 images\n",
            "Successfully saved 1400 images\n",
            "Successfully saved 1600 images\n",
            "Successfully saved 1800 images\n",
            "Successfully saved 2000 images\n",
            "Successfully saved 2200 images\n",
            "Total number of cropped images: 2380\n"
          ]
        }
      ],
      "source": [
        "# Image stored directory(where both the full and cropped images(folders) are present):-\n",
        "image_stored_directory=r'/content/drive/MyDrive/ML_final/IMAGE'     \n",
        "\n",
        "# Full sized image directory:-\n",
        "im_dir=r'/content/drive/MyDrive/ML_final/IMAGE/F_OPENED'    \n",
        "\n",
        "# Folder to save cropped images\n",
        "save_img_dir=r'/content/drive/MyDrive/ML_final/IMAGE/CROPPED/OPEN' \n",
        "    \n",
        "\n",
        "os.chdir(image_stored_directory)\n",
        "paths = [] # all images\n",
        "count=0\n",
        "for r, d, f in os.walk(im_dir):\n",
        "    for file in f:\n",
        "        if '.jpg' in file:\n",
        "            paths.append(os.path.join(r, file))\n",
        "\n",
        "for path in paths:\n",
        "    # Using Facial Recognition Library on Image\n",
        "    image = face_recognition.load_image_file(path)\n",
        "    # create a variable for the facial feature coordinates\n",
        "    face_landmarks_list = face_recognition.face_landmarks(image)\n",
        "\n",
        "    # create a placeholder list for the eye coordinates\n",
        "    eyes = []\n",
        "    try:\n",
        "        eyes.append(face_landmarks_list[0]['left_eye'])\n",
        "        eyes.append(face_landmarks_list[0]['right_eye'])\n",
        "    except:\n",
        "        continue\n",
        "    # establish the max x and y coordinates of the eye\n",
        "    for eye in eyes:\n",
        "        x_max = max([coordinate[0] for coordinate in eye])\n",
        "        x_min = min([coordinate[0] for coordinate in eye])\n",
        "        y_max = max([coordinate[1] for coordinate in eye])\n",
        "        y_min = min([coordinate[1] for coordinate in eye])\n",
        "      # establish the range of x and y coordinates    \n",
        "        x_range = x_max - x_min\n",
        "        y_range = y_max - y_min\n",
        "\n",
        "        # to make sure the full eye is captured,\n",
        "        # calculate the coordinates of a square that has 50%\n",
        "        # cushion added to the axis with a larger range\n",
        "        if x_range > y_range:\n",
        "            right = round(.5*x_range) + x_max\n",
        "            left = x_min - round(.5*x_range)\n",
        "            bottom = round(((right-left) - y_range))/2 + y_max\n",
        "            top = y_min - round(((right-left) - y_range))/2\n",
        "        else:\n",
        "            bottom = round(.5*y_range) + y_max\n",
        "            top = y_min - round(.5*y_range)\n",
        "            right = round(((bottom-top) - x_range))/2 + x_max\n",
        "            left = x_min - round(((bottom-top) - x_range))/2\n",
        "\n",
        "        #crop original image using the cushioned coordinates\n",
        "        im = Image.open(path)\n",
        "        im = im.crop((left, top, right, bottom))\n",
        "\n",
        "        # resize image for input into our model\n",
        "        im = im.resize((80,80))\n",
        "\n",
        "        os.chdir(save_img_dir)\n",
        "        # save file to output folder\n",
        "        im.save(str(count)+'.jpg')\n",
        "\n",
        "        # increase count for iterative file saving\n",
        "        count += 1\n",
        "        # print count every 200 photos to monitor progress\n",
        "        if count % 200 == 0:\n",
        "            print(\"Successfully saved \"+ str(count)+\" images\") \n",
        "open_img = save_img_dir\n",
        "print(\"Total number of cropped images:\",(count))\n"
      ]
    },
    {
      "cell_type": "markdown",
      "id": "15119d7c",
      "metadata": {
        "id": "15119d7c"
      },
      "source": [
        "# FOR CLOSED EYES"
      ]
    },
    {
      "cell_type": "code",
      "execution_count": null,
      "id": "eeadbd67",
      "metadata": {
        "id": "eeadbd67",
        "outputId": "58c7481b-e46b-49e1-e92b-caa5d2404b58",
        "colab": {
          "base_uri": "https://localhost:8080/"
        }
      },
      "outputs": [
        {
          "output_type": "stream",
          "name": "stdout",
          "text": [
            "successfully saved 200 images\n",
            "successfully saved 400 images\n",
            "successfully saved 600 images\n",
            "successfully saved 800 images\n",
            "successfully saved 1000 images\n",
            "successfully saved 1200 images\n",
            "successfully saved 1400 images\n",
            "successfully saved 1600 images\n",
            "successfully saved 1800 images\n",
            "successfully saved 2000 images\n",
            "Total number of cropped images: 2002\n"
          ]
        }
      ],
      "source": [
        "# Image stored directory(where both the full and cropped images are present):-\n",
        "image_stored_directory = r'/content/drive/MyDrive/ML_final/IMAGE'    \n",
        "\n",
        "# Full sized image directory:-\n",
        "im_dir = r'/content/drive/MyDrive/ML_final/IMAGE/F_CLOSED' \n",
        "\n",
        "# Folder to save cropped images:-\n",
        "save_img_dir = r'/content/drive/MyDrive/ML_final/IMAGE/CROPPED/CLOSE'\n",
        "\n",
        "os.chdir(image_stored_directory)\n",
        "paths = [] # all images\n",
        "count=0\n",
        "for r, d, f in os.walk(im_dir):\n",
        "    for file in f:\n",
        "        if '.jpg' in file:\n",
        "            paths.append(os.path.join(r, file))\n",
        "\n",
        "for path in paths:\n",
        "      \n",
        "    image = face_recognition.load_image_file(path)\n",
        "    # create a variable for the facial feature coordinates\n",
        "    face_landmarks_list = face_recognition.face_landmarks(image)\n",
        "\n",
        "    # create a placeholder list for the eye coordinates\n",
        "    eyes = []\n",
        "    try:\n",
        "        eyes.append(face_landmarks_list[0]['left_eye'])\n",
        "        eyes.append(face_landmarks_list[0]['right_eye'])\n",
        "    except:\n",
        "        continue\n",
        "    # establish the max x and y coordinates of the eye\n",
        "    for eye in eyes:\n",
        "        x_max = max([coordinate[0] for coordinate in eye])\n",
        "        x_min = min([coordinate[0] for coordinate in eye])\n",
        "        y_max = max([coordinate[1] for coordinate in eye])\n",
        "        y_min = min([coordinate[1] for coordinate in eye])\n",
        "      # establish the range of x and y coordinates    \n",
        "        x_range = x_max - x_min\n",
        "        y_range = y_max - y_min\n",
        "\n",
        "        # to make sure the full eye is captured,\n",
        "        # calculate the coordinates of a square that has 50%\n",
        "        # cushion added to the axis with a larger range\n",
        "        if x_range > y_range:\n",
        "            right = round(.5*x_range) + x_max\n",
        "            left = x_min - round(.5*x_range)\n",
        "            bottom = round(((right-left) - y_range))/2 + y_max\n",
        "            top = y_min - round(((right-left) - y_range))/2\n",
        "        else:\n",
        "            bottom = round(.5*y_range) + y_max\n",
        "            top = y_min - round(.5*y_range)\n",
        "            right = round(((bottom-top) - x_range))/2 + x_max\n",
        "            left = x_min - round(((bottom-top) - x_range))/2\n",
        "\n",
        "        #crop original image using the cushioned coordinates\n",
        "        im = Image.open(path)\n",
        "        im = im.crop((left, top, right, bottom))\n",
        "\n",
        "        # resize image for input into our model\n",
        "        im = im.resize((80,80))\n",
        "        os.chdir(save_img_dir)\n",
        "        # save file to output folder\n",
        "        im.save(str(count)+'.jpg')\n",
        "\n",
        "        # increase count for iterative file saving\n",
        "        count += 1\n",
        "        # print count every 200 photos to monitor progress\n",
        "        if (count) % 200 == 0:\n",
        "            print(\"successfully saved \"+ str(count)+\" images\")\n",
        "            \n",
        "print(\"Total number of cropped images:\",(count))    \n",
        "close_img = save_img_dir"
      ]
    },
    {
      "cell_type": "markdown",
      "id": "91721130",
      "metadata": {
        "id": "91721130"
      },
      "source": [
        "# LOADING CROPPED IMAGES"
      ]
    },
    {
      "cell_type": "code",
      "execution_count": null,
      "id": "8487d80f",
      "metadata": {
        "id": "8487d80f"
      },
      "outputs": [],
      "source": [
        "# FUNCTION FOR LOADING IMAGES\n",
        "def load_images_from_folder(folder, eyes = 0):\n",
        "    count = 0\n",
        "    error_count = 0\n",
        "    images = []\n",
        "    for filename in os.listdir(folder):\n",
        "        try:\n",
        "            img = cv2.imread(os.path.join(folder,filename))\n",
        "            img = cv2.resize(img, (80,80)) ## Resizing the images\n",
        "            ## for eyes if it is 0: open, 1: close\n",
        "            images.append([img, eyes])\n",
        "        except:\n",
        "            error_count += 1\n",
        "            print('ErrorCount = ' + str(error_count))\n",
        "            continue\n",
        "        \n",
        "        count += 1\n",
        "        if count % 1000 == 0:\n",
        "            print('Succesful Image Import Count = ' + str(count))\n",
        "\n",
        "    return images\n",
        "\n"
      ]
    },
    {
      "cell_type": "markdown",
      "id": "7f82e353",
      "metadata": {
        "id": "7f82e353"
      },
      "source": [
        "# Open eyes "
      ]
    },
    {
      "cell_type": "code",
      "execution_count": null,
      "id": "70a2522b",
      "metadata": {
        "id": "70a2522b",
        "outputId": "bcc09fed-9e59-4f11-bc73-92289229f64f",
        "colab": {
          "base_uri": "https://localhost:8080/"
        }
      },
      "outputs": [
        {
          "output_type": "stream",
          "name": "stdout",
          "text": [
            "Succesful Image Import Count = 1000\n",
            "Succesful Image Import Count = 2000\n"
          ]
        }
      ],
      "source": [
        "open_img = r'/content/drive/MyDrive/ML_final/IMAGE/CROPPED/OPEN' # Location of directory images already cropped\n",
        "\n",
        "folder = open_img\n",
        "\n",
        "open_eyes = load_images_from_folder(folder, 0)"
      ]
    },
    {
      "cell_type": "markdown",
      "id": "44febced",
      "metadata": {
        "id": "44febced"
      },
      "source": [
        "# Close eyes"
      ]
    },
    {
      "cell_type": "code",
      "execution_count": null,
      "id": "af80a9fa",
      "metadata": {
        "id": "af80a9fa",
        "outputId": "095b1ebd-70e3-46c2-9ba3-f7af0e28f381",
        "colab": {
          "base_uri": "https://localhost:8080/"
        }
      },
      "outputs": [
        {
          "output_type": "stream",
          "name": "stdout",
          "text": [
            "Succesful Image Import Count = 1000\n",
            "Succesful Image Import Count = 2000\n"
          ]
        }
      ],
      "source": [
        "close_img = r'/content/drive/MyDrive/ML_final/IMAGE/CROPPED/CLOSE' # Location of directory images already cropped\n",
        "folder = close_img\n",
        "closed_eyes = load_images_from_folder(folder, 1)\n"
      ]
    },
    {
      "cell_type": "code",
      "execution_count": null,
      "id": "2e7e17a8",
      "metadata": {
        "id": "2e7e17a8"
      },
      "outputs": [],
      "source": [
        "eyes = closed_eyes + open_eyes"
      ]
    },
    {
      "cell_type": "code",
      "execution_count": null,
      "id": "a96eb9ea",
      "metadata": {
        "id": "a96eb9ea",
        "outputId": "dbecc68b-e04d-4b69-9298-6511c44b329a",
        "colab": {
          "base_uri": "https://localhost:8080/"
        }
      },
      "outputs": [
        {
          "output_type": "stream",
          "name": "stdout",
          "text": [
            "Total Images 4382\n"
          ]
        }
      ],
      "source": [
        "X = [] # IMAGES\n",
        "y = [] # LABELS\n",
        "for features, label in eyes: \n",
        "     X.append(features)\n",
        "     y.append(label)\n",
        "    \n",
        "# NUMPY ARRAY CONVERTION\n",
        "images=np.array(X)    \n",
        "labels=np.array(y)\n",
        "\n",
        "print(\"Total Images\",len(X))    "
      ]
    },
    {
      "cell_type": "code",
      "source": [
        "print(\"Total labels\",len(y)) "
      ],
      "metadata": {
        "colab": {
          "base_uri": "https://localhost:8080/"
        },
        "id": "gwWLp9_yvgPv",
        "outputId": "0debce4a-e82f-48e9-dfcd-66d82b8c3d75"
      },
      "id": "gwWLp9_yvgPv",
      "execution_count": null,
      "outputs": [
        {
          "output_type": "stream",
          "name": "stdout",
          "text": [
            "Total labels 4382\n"
          ]
        }
      ]
    },
    {
      "cell_type": "markdown",
      "id": "d4896134",
      "metadata": {
        "id": "d4896134"
      },
      "source": [
        "# DATA SPLITTING"
      ]
    },
    {
      "cell_type": "code",
      "execution_count": null,
      "id": "327c77c3",
      "metadata": {
        "id": "327c77c3"
      },
      "outputs": [],
      "source": [
        "X_train, X_test, y_train, y_test = train_test_split(images,labels, test_size=testRatio)\n",
        "\n",
        "X_train, X_validation, y_train, y_validation = train_test_split(X_train, y_train, test_size=validationRatio)\n",
        "\n",
        "# X_train = ARRAY OF IMAGES TO TRAIN\n",
        "# y_train = CORRESPONDING CLASS ID"
      ]
    },
    {
      "cell_type": "code",
      "execution_count": null,
      "id": "74fac5ec",
      "metadata": {
        "id": "74fac5ec",
        "outputId": "5b1a6355-22a0-4cb3-8fca-458e0bdf29e1",
        "colab": {
          "base_uri": "https://localhost:8080/"
        }
      },
      "outputs": [
        {
          "output_type": "stream",
          "name": "stdout",
          "text": [
            "Data Shapes\n",
            "Train(2804, 80, 80, 3) (2804,)\n",
            "Validation(701, 80, 80, 3) (701,)\n",
            "Test(877, 80, 80, 3) (877,)\n"
          ]
        }
      ],
      "source": [
        "# TO CHECK IF NUMBER OF IMAGES MATCHES TO NUMBER OF LABELS FOR EACH DATA SET\n",
        "\n",
        "print(\"Data Shapes\")\n",
        "print(\"Train\", end=\"\")\n",
        "print(X_train.shape, y_train.shape)\n",
        "print(\"Validation\", end=\"\")\n",
        "print(X_validation.shape, y_validation.shape)\n",
        "print(\"Test\", end=\"\")\n",
        "print(X_test.shape, y_test.shape)\n",
        "assert (X_train.shape[0]==y_train.shape[0]), \"The number of images in not equal to the number of lables in training set\"\n",
        "assert (X_validation.shape[0]==y_validation.shape[0]), \"The number of images in not equal to the number of lables in validation set\"\n",
        "assert (X_test.shape[0]==y_test.shape[0]), \"The number of images in not equal to the number of lables in test set\"\n",
        "assert (X_train.shape[1:]==(imageDimesions)),\" The dimesions of the Training images are wrong \"\n",
        "assert (X_validation.shape[1:]==(imageDimesions)),\" The dimesionas of the Validation images are wrong \"\n",
        "assert (X_test.shape[1:]==(imageDimesions)),\" The dimesionas of the Test images are wrong\"\n"
      ]
    },
    {
      "cell_type": "markdown",
      "id": "ecfd44f0",
      "metadata": {
        "id": "ecfd44f0"
      },
      "source": [
        "# DATA AUGMENTATION "
      ]
    },
    {
      "cell_type": "code",
      "execution_count": null,
      "id": "19f66dd2",
      "metadata": {
        "id": "19f66dd2",
        "outputId": "db3911ea-5900-45ed-9dfe-8ef7365ad79e",
        "colab": {
          "base_uri": "https://localhost:8080/"
        }
      },
      "outputs": [
        {
          "output_type": "stream",
          "name": "stdout",
          "text": [
            "X_train shape before gray (2804, 80, 80, 3)\n",
            "X_train shape after gray (2804, 80, 80)\n",
            "X_train shape after depth (2804, 80, 80, 1)\n"
          ]
        }
      ],
      "source": [
        "print(\"X_train shape before gray\",X_train.shape)\n",
        "\n",
        "def grayscale(img):\n",
        "    img = cv2.cvtColor(img, cv2.COLOR_BGR2GRAY)\n",
        "    return img\n",
        "\n",
        "\n",
        "def equalize(img):\n",
        "    img = cv2.equalizeHist(img)\n",
        "    return img\n",
        "\n",
        "\n",
        "def preprocessing(img):\n",
        "    img = grayscale(img)  # CONVERT TO GRAYSCALE\n",
        "    img = equalize(img)  # STANDARDIZE THE LIGHTING IN AN IMAGE\n",
        "    img = img / 255  # TO NORMALIZE VALUES BETWEEN 0 AND 1 INSTEAD OF 0 TO 255\n",
        "    return img\n",
        "\n",
        "\n",
        "X_train = np.array(list(map(preprocessing, X_train)))  # TO IRETATE AND PREPROCESS ALL IMAGES\n",
        "X_validation = np.array(list(map(preprocessing, X_validation)))\n",
        "X_test = np.array(list(map(preprocessing, X_test)))\n",
        "print(\"X_train shape after gray\",X_train.shape)\n",
        "\n",
        "\n",
        "# ADDING A DEPTH OF 1 (grayscale)\n",
        "X_train = X_train.reshape(X_train.shape[0],X_train.shape[1],X_train.shape[2],1)\n",
        "X_validation = X_validation.reshape(X_validation.shape[0],X_validation.shape[1],X_validation.shape[2],1)\n",
        "X_test = X_test.reshape(X_test.shape[0],X_test.shape[1],X_test.shape[2],1)\n",
        "print(\"X_train shape after depth\",X_train.shape)\n",
        "\n",
        "\n",
        "# AUGMENTATAION OF IMAGES: TO MAKEIT MORE GENERIC\n",
        "dataGen = ImageDataGenerator(width_shift_range=0.1,\n",
        "                             # 0.1 = 10%     IF MORE THAN 1 E.G 10 THEN IT REFFERS TO NO. OF  PIXELS EG 10 PIXELS\n",
        "                             height_shift_range=0.1,\n",
        "                             zoom_range=0.2,  # 0.2 MEANS CAN GO FROM 0.8 TO 1.2\n",
        "                             shear_range=0.1,  # MAGNITUDE OF SHEAR ANGLE\n",
        "                             rotation_range=10)  # DEGREES\n",
        "\n",
        "dataGen.fit(X_train)\n",
        "batches = dataGen.flow(X_train, y_train,batch_size=20)  # REQUESTING DATA GENRATOR TO GENERATE IMAGES  BATCH SIZE = NO. OF IMAGES CREAED EACH TIME ITS CALLED\n",
        "X_batch, y_batch = next(batches)\n",
        "\n",
        "\n",
        "#One hot encoding\n",
        "y_train = to_categorical(y_train, noOfClasses)\n",
        "y_validation = to_categorical(y_validation, noOfClasses)\n",
        "y_test = to_categorical(y_test, noOfClasses)"
      ]
    },
    {
      "cell_type": "markdown",
      "id": "bfd1ad8e",
      "metadata": {
        "id": "bfd1ad8e"
      },
      "source": [
        "# MODEL"
      ]
    },
    {
      "cell_type": "code",
      "execution_count": null,
      "id": "fb768b3d",
      "metadata": {
        "id": "fb768b3d"
      },
      "outputs": [],
      "source": [
        "def my_Model():   \n",
        "    \n",
        "    # Instantiate the model\n",
        "    model = Sequential()\n",
        "\n",
        "    # Adding first three convolutional layers\n",
        "    model.add(Conv2D(\n",
        "                    filters = 32, # number of filters\n",
        "                    kernel_size = (3,3), # height/width of filter\n",
        "                    activation = 'relu',\n",
        "                    input_shape = (imageDimesions[0],imageDimesions[1],1) # shape of input (image)\n",
        "                    ))\n",
        "    model.add(Conv2D(\n",
        "                    filters = 32, # number of filters\n",
        "                    kernel_size = (3,3), # height/width of filter\n",
        "                    activation = 'relu' # activation function \n",
        "                    ))\n",
        "    model.add(Conv2D(\n",
        "                    filters = 32, # number of filters\n",
        "                    kernel_size = (3,3), # height/width of filter\n",
        "                    activation = 'relu' # activation function \n",
        "                    ))\n",
        "    \n",
        "    # Adding pooling after convolutional layers\n",
        "    model.add(MaxPooling2D(pool_size = (2,2))) # Dimensions of the region that you are pooling\n",
        "\n",
        "    # Adding second set of convolutional layers\n",
        "    model.add(Conv2D(\n",
        "                    filters = 32, # number of filters\n",
        "                    kernel_size = (3,3), # height/width of filter\n",
        "                    activation = 'relu' # activation function \n",
        "                    ))\n",
        "    model.add(Conv2D(\n",
        "                    filters = 32, # number of filters\n",
        "                    kernel_size = (3,3), # height/width of filter\n",
        "                    activation = 'relu' # activation function \n",
        "                    ))\n",
        "    \n",
        "    # Add last pooling layer.\n",
        "    model.add(MaxPooling2D(pool_size=(2,2)))\n",
        "\n",
        "    model.add(Flatten())\n",
        "\n",
        "    # Adding first dense layer with 256 nodes\n",
        "    model.add(Dense(256, activation='relu'))\n",
        "\n",
        "    # Adding a dropout layer to avoid overfitting\n",
        "    model.add(Dropout(0.3))\n",
        "\n",
        "    model.add(Dense(128, activation='relu'))\n",
        "    model.add(Dropout(0.3)) \n",
        "\n",
        "    model.add(Dense(64, activation='relu'))\n",
        "    model.add(Dropout(0.3))\n",
        "\n",
        "    # adding output layer\n",
        "    model.add(Dense(2, activation = 'sigmoid'))\n",
        "\n",
        "    # compiling the model\n",
        "    model.compile(loss='binary_crossentropy',\n",
        "                optimizer='adam',\n",
        "                metrics=['accuracy'])\n",
        "    return model"
      ]
    },
    {
      "cell_type": "markdown",
      "id": "18ae6fa3",
      "metadata": {
        "id": "18ae6fa3"
      },
      "source": [
        "# TRAINING"
      ]
    },
    {
      "cell_type": "code",
      "execution_count": null,
      "id": "6992fb1b",
      "metadata": {
        "id": "6992fb1b",
        "outputId": "44ec6113-5c47-45b2-d6e7-8568fc7a39cb",
        "colab": {
          "base_uri": "https://localhost:8080/"
        }
      },
      "outputs": [
        {
          "output_type": "stream",
          "name": "stdout",
          "text": [
            "Model: \"sequential_1\"\n",
            "_________________________________________________________________\n",
            " Layer (type)                Output Shape              Param #   \n",
            "=================================================================\n",
            " conv2d_5 (Conv2D)           (None, 78, 78, 32)        320       \n",
            "                                                                 \n",
            " conv2d_6 (Conv2D)           (None, 76, 76, 32)        9248      \n",
            "                                                                 \n",
            " conv2d_7 (Conv2D)           (None, 74, 74, 32)        9248      \n",
            "                                                                 \n",
            " max_pooling2d_2 (MaxPooling  (None, 37, 37, 32)       0         \n",
            " 2D)                                                             \n",
            "                                                                 \n",
            " conv2d_8 (Conv2D)           (None, 35, 35, 32)        9248      \n",
            "                                                                 \n",
            " conv2d_9 (Conv2D)           (None, 33, 33, 32)        9248      \n",
            "                                                                 \n",
            " max_pooling2d_3 (MaxPooling  (None, 16, 16, 32)       0         \n",
            " 2D)                                                             \n",
            "                                                                 \n",
            " flatten_1 (Flatten)         (None, 8192)              0         \n",
            "                                                                 \n",
            " dense_4 (Dense)             (None, 256)               2097408   \n",
            "                                                                 \n",
            " dropout_3 (Dropout)         (None, 256)               0         \n",
            "                                                                 \n",
            " dense_5 (Dense)             (None, 128)               32896     \n",
            "                                                                 \n",
            " dropout_4 (Dropout)         (None, 128)               0         \n",
            "                                                                 \n",
            " dense_6 (Dense)             (None, 64)                8256      \n",
            "                                                                 \n",
            " dropout_5 (Dropout)         (None, 64)                0         \n",
            "                                                                 \n",
            " dense_7 (Dense)             (None, 2)                 130       \n",
            "                                                                 \n",
            "=================================================================\n",
            "Total params: 2,176,002\n",
            "Trainable params: 2,176,002\n",
            "Non-trainable params: 0\n",
            "_________________________________________________________________\n",
            "None\n",
            "Epoch 1/100\n",
            "35/35 [==============================] - 5s 110ms/step - loss: 0.6961 - accuracy: 0.5323 - val_loss: 0.6948 - val_accuracy: 0.4379\n",
            "Epoch 2/100\n",
            "35/35 [==============================] - 4s 103ms/step - loss: 0.6759 - accuracy: 0.5866 - val_loss: 0.5744 - val_accuracy: 0.7504\n",
            "Epoch 3/100\n",
            "35/35 [==============================] - 4s 102ms/step - loss: 0.5876 - accuracy: 0.6990 - val_loss: 0.5072 - val_accuracy: 0.8088\n",
            "Epoch 4/100\n",
            "35/35 [==============================] - 4s 102ms/step - loss: 0.5566 - accuracy: 0.7250 - val_loss: 0.4295 - val_accuracy: 0.8217\n",
            "Epoch 5/100\n",
            "35/35 [==============================] - 4s 105ms/step - loss: 0.4714 - accuracy: 0.7937 - val_loss: 0.2682 - val_accuracy: 0.9030\n",
            "Epoch 6/100\n",
            "35/35 [==============================] - 4s 103ms/step - loss: 0.4035 - accuracy: 0.8286 - val_loss: 0.2320 - val_accuracy: 0.9101\n",
            "Epoch 7/100\n",
            "35/35 [==============================] - 4s 102ms/step - loss: 0.3674 - accuracy: 0.8418 - val_loss: 0.2587 - val_accuracy: 0.8916\n",
            "Epoch 8/100\n",
            "35/35 [==============================] - 4s 104ms/step - loss: 0.3245 - accuracy: 0.8708 - val_loss: 0.2064 - val_accuracy: 0.9187\n",
            "Epoch 9/100\n",
            "35/35 [==============================] - 4s 103ms/step - loss: 0.2969 - accuracy: 0.8825 - val_loss: 0.1746 - val_accuracy: 0.9344\n",
            "Epoch 10/100\n",
            "35/35 [==============================] - 4s 102ms/step - loss: 0.2239 - accuracy: 0.9112 - val_loss: 0.1684 - val_accuracy: 0.9330\n",
            "Epoch 11/100\n",
            "35/35 [==============================] - 4s 101ms/step - loss: 0.2304 - accuracy: 0.9071 - val_loss: 0.1494 - val_accuracy: 0.9486\n",
            "Epoch 12/100\n",
            "35/35 [==============================] - 4s 104ms/step - loss: 0.2332 - accuracy: 0.9130 - val_loss: 0.1388 - val_accuracy: 0.9472\n",
            "Epoch 13/100\n",
            "35/35 [==============================] - 4s 104ms/step - loss: 0.2061 - accuracy: 0.9254 - val_loss: 0.1368 - val_accuracy: 0.9486\n",
            "Epoch 14/100\n",
            "35/35 [==============================] - 4s 103ms/step - loss: 0.2059 - accuracy: 0.9203 - val_loss: 0.1810 - val_accuracy: 0.9158\n",
            "Epoch 15/100\n",
            "35/35 [==============================] - 4s 105ms/step - loss: 0.2399 - accuracy: 0.9064 - val_loss: 0.1575 - val_accuracy: 0.9472\n",
            "Epoch 16/100\n",
            "35/35 [==============================] - 4s 103ms/step - loss: 0.1845 - accuracy: 0.9255 - val_loss: 0.1403 - val_accuracy: 0.9429\n",
            "Epoch 17/100\n",
            "35/35 [==============================] - 4s 104ms/step - loss: 0.1827 - accuracy: 0.9302 - val_loss: 0.1656 - val_accuracy: 0.9344\n",
            "Epoch 18/100\n",
            "35/35 [==============================] - 4s 103ms/step - loss: 0.2127 - accuracy: 0.9174 - val_loss: 0.1467 - val_accuracy: 0.9429\n",
            "Epoch 19/100\n",
            "35/35 [==============================] - 4s 103ms/step - loss: 0.1922 - accuracy: 0.9299 - val_loss: 0.1241 - val_accuracy: 0.9529\n",
            "Epoch 20/100\n",
            "35/35 [==============================] - 4s 102ms/step - loss: 0.1854 - accuracy: 0.9336 - val_loss: 0.1304 - val_accuracy: 0.9544\n",
            "Epoch 21/100\n",
            "35/35 [==============================] - 4s 102ms/step - loss: 0.1765 - accuracy: 0.9295 - val_loss: 0.1365 - val_accuracy: 0.9429\n",
            "Epoch 22/100\n",
            "35/35 [==============================] - 4s 103ms/step - loss: 0.1376 - accuracy: 0.9446 - val_loss: 0.1630 - val_accuracy: 0.9415\n",
            "Epoch 23/100\n",
            "35/35 [==============================] - 4s 102ms/step - loss: 0.1520 - accuracy: 0.9372 - val_loss: 0.1443 - val_accuracy: 0.9444\n",
            "Epoch 24/100\n",
            "35/35 [==============================] - 4s 104ms/step - loss: 0.1546 - accuracy: 0.9420 - val_loss: 0.1350 - val_accuracy: 0.9486\n",
            "Epoch 25/100\n",
            "35/35 [==============================] - 4s 103ms/step - loss: 0.1415 - accuracy: 0.9479 - val_loss: 0.1356 - val_accuracy: 0.9458\n",
            "Epoch 26/100\n",
            "35/35 [==============================] - 4s 102ms/step - loss: 0.1401 - accuracy: 0.9512 - val_loss: 0.1429 - val_accuracy: 0.9501\n",
            "Epoch 27/100\n",
            "35/35 [==============================] - 4s 102ms/step - loss: 0.1341 - accuracy: 0.9501 - val_loss: 0.1477 - val_accuracy: 0.9501\n",
            "Epoch 28/100\n",
            "35/35 [==============================] - 4s 101ms/step - loss: 0.1550 - accuracy: 0.9438 - val_loss: 0.1539 - val_accuracy: 0.9401\n",
            "Epoch 29/100\n",
            "35/35 [==============================] - 4s 103ms/step - loss: 0.1465 - accuracy: 0.9464 - val_loss: 0.1355 - val_accuracy: 0.9472\n",
            "Epoch 30/100\n",
            "35/35 [==============================] - 4s 101ms/step - loss: 0.1305 - accuracy: 0.9493 - val_loss: 0.1402 - val_accuracy: 0.9501\n",
            "Epoch 31/100\n",
            "35/35 [==============================] - 4s 102ms/step - loss: 0.1398 - accuracy: 0.9457 - val_loss: 0.1295 - val_accuracy: 0.9544\n",
            "Epoch 32/100\n",
            "35/35 [==============================] - 4s 103ms/step - loss: 0.1345 - accuracy: 0.9471 - val_loss: 0.1343 - val_accuracy: 0.9558\n",
            "Epoch 33/100\n",
            "35/35 [==============================] - 4s 104ms/step - loss: 0.1276 - accuracy: 0.9490 - val_loss: 0.1438 - val_accuracy: 0.9472\n",
            "Epoch 34/100\n",
            "35/35 [==============================] - 4s 103ms/step - loss: 0.1381 - accuracy: 0.9416 - val_loss: 0.1374 - val_accuracy: 0.9458\n",
            "Epoch 35/100\n",
            "35/35 [==============================] - 4s 102ms/step - loss: 0.1240 - accuracy: 0.9490 - val_loss: 0.1358 - val_accuracy: 0.9501\n",
            "Epoch 36/100\n",
            "35/35 [==============================] - 4s 102ms/step - loss: 0.1352 - accuracy: 0.9523 - val_loss: 0.1250 - val_accuracy: 0.9515\n",
            "Epoch 37/100\n",
            "35/35 [==============================] - 4s 103ms/step - loss: 0.1283 - accuracy: 0.9519 - val_loss: 0.1271 - val_accuracy: 0.9572\n",
            "Epoch 38/100\n",
            "35/35 [==============================] - 4s 104ms/step - loss: 0.1161 - accuracy: 0.9600 - val_loss: 0.1411 - val_accuracy: 0.9515\n",
            "Epoch 39/100\n",
            "35/35 [==============================] - 4s 103ms/step - loss: 0.1218 - accuracy: 0.9545 - val_loss: 0.1243 - val_accuracy: 0.9515\n",
            "Epoch 40/100\n",
            "35/35 [==============================] - 4s 104ms/step - loss: 0.1552 - accuracy: 0.9376 - val_loss: 0.1565 - val_accuracy: 0.9472\n",
            "Epoch 41/100\n",
            "35/35 [==============================] - 4s 102ms/step - loss: 0.1224 - accuracy: 0.9523 - val_loss: 0.1419 - val_accuracy: 0.9486\n",
            "Epoch 42/100\n",
            "35/35 [==============================] - 4s 103ms/step - loss: 0.1086 - accuracy: 0.9593 - val_loss: 0.1348 - val_accuracy: 0.9572\n",
            "Epoch 43/100\n",
            "35/35 [==============================] - 4s 104ms/step - loss: 0.1127 - accuracy: 0.9600 - val_loss: 0.1420 - val_accuracy: 0.9558\n",
            "Epoch 44/100\n",
            "35/35 [==============================] - 4s 103ms/step - loss: 0.1305 - accuracy: 0.9530 - val_loss: 0.1413 - val_accuracy: 0.9444\n",
            "Epoch 45/100\n",
            "35/35 [==============================] - 4s 102ms/step - loss: 0.1305 - accuracy: 0.9493 - val_loss: 0.1283 - val_accuracy: 0.9515\n",
            "Epoch 46/100\n",
            "35/35 [==============================] - 4s 105ms/step - loss: 0.1213 - accuracy: 0.9532 - val_loss: 0.1409 - val_accuracy: 0.9529\n",
            "Epoch 47/100\n",
            "35/35 [==============================] - 4s 104ms/step - loss: 0.1181 - accuracy: 0.9574 - val_loss: 0.1633 - val_accuracy: 0.9415\n",
            "Epoch 48/100\n",
            "35/35 [==============================] - 4s 106ms/step - loss: 0.1205 - accuracy: 0.9541 - val_loss: 0.1253 - val_accuracy: 0.9601\n",
            "Epoch 49/100\n",
            "35/35 [==============================] - 4s 105ms/step - loss: 0.1165 - accuracy: 0.9526 - val_loss: 0.1593 - val_accuracy: 0.9486\n",
            "Epoch 50/100\n",
            "35/35 [==============================] - 4s 103ms/step - loss: 0.1177 - accuracy: 0.9530 - val_loss: 0.1358 - val_accuracy: 0.9586\n",
            "Epoch 51/100\n",
            "35/35 [==============================] - 4s 102ms/step - loss: 0.1102 - accuracy: 0.9574 - val_loss: 0.1281 - val_accuracy: 0.9515\n",
            "Epoch 52/100\n",
            "35/35 [==============================] - 4s 103ms/step - loss: 0.1159 - accuracy: 0.9596 - val_loss: 0.1430 - val_accuracy: 0.9472\n",
            "Epoch 53/100\n",
            "35/35 [==============================] - 4s 103ms/step - loss: 0.0870 - accuracy: 0.9677 - val_loss: 0.1464 - val_accuracy: 0.9544\n",
            "Epoch 54/100\n",
            "35/35 [==============================] - 4s 103ms/step - loss: 0.1267 - accuracy: 0.9534 - val_loss: 0.1363 - val_accuracy: 0.9486\n",
            "Epoch 55/100\n",
            "35/35 [==============================] - 4s 104ms/step - loss: 0.1216 - accuracy: 0.9534 - val_loss: 0.1373 - val_accuracy: 0.9558\n",
            "Epoch 56/100\n",
            "35/35 [==============================] - 4s 104ms/step - loss: 0.1056 - accuracy: 0.9589 - val_loss: 0.1389 - val_accuracy: 0.9529\n",
            "Epoch 57/100\n",
            "35/35 [==============================] - 4s 103ms/step - loss: 0.0922 - accuracy: 0.9684 - val_loss: 0.1334 - val_accuracy: 0.9544\n",
            "Epoch 58/100\n",
            "35/35 [==============================] - 4s 103ms/step - loss: 0.0908 - accuracy: 0.9640 - val_loss: 0.1277 - val_accuracy: 0.9572\n",
            "Epoch 59/100\n",
            "35/35 [==============================] - 4s 103ms/step - loss: 0.0867 - accuracy: 0.9648 - val_loss: 0.1330 - val_accuracy: 0.9572\n",
            "Epoch 60/100\n",
            "35/35 [==============================] - 4s 102ms/step - loss: 0.0997 - accuracy: 0.9600 - val_loss: 0.1366 - val_accuracy: 0.9401\n",
            "Epoch 61/100\n",
            "35/35 [==============================] - 4s 104ms/step - loss: 0.1166 - accuracy: 0.9556 - val_loss: 0.1265 - val_accuracy: 0.9572\n",
            "Epoch 62/100\n",
            "35/35 [==============================] - 4s 103ms/step - loss: 0.0941 - accuracy: 0.9670 - val_loss: 0.1279 - val_accuracy: 0.9558\n",
            "Epoch 63/100\n",
            "35/35 [==============================] - 4s 103ms/step - loss: 0.0967 - accuracy: 0.9607 - val_loss: 0.1255 - val_accuracy: 0.9515\n",
            "Epoch 64/100\n",
            "35/35 [==============================] - 4s 104ms/step - loss: 0.0848 - accuracy: 0.9655 - val_loss: 0.1310 - val_accuracy: 0.9515\n",
            "Epoch 65/100\n",
            "35/35 [==============================] - 4s 104ms/step - loss: 0.0962 - accuracy: 0.9662 - val_loss: 0.1113 - val_accuracy: 0.9586\n",
            "Epoch 66/100\n",
            "35/35 [==============================] - 4s 104ms/step - loss: 0.0891 - accuracy: 0.9695 - val_loss: 0.1283 - val_accuracy: 0.9601\n",
            "Epoch 67/100\n",
            "35/35 [==============================] - 4s 103ms/step - loss: 0.1165 - accuracy: 0.9559 - val_loss: 0.1225 - val_accuracy: 0.9472\n",
            "Epoch 68/100\n",
            "35/35 [==============================] - 4s 103ms/step - loss: 0.0940 - accuracy: 0.9644 - val_loss: 0.1277 - val_accuracy: 0.9515\n",
            "Epoch 69/100\n",
            "35/35 [==============================] - 4s 104ms/step - loss: 0.0903 - accuracy: 0.9648 - val_loss: 0.1286 - val_accuracy: 0.9615\n",
            "Epoch 70/100\n",
            "35/35 [==============================] - 4s 103ms/step - loss: 0.0937 - accuracy: 0.9607 - val_loss: 0.1286 - val_accuracy: 0.9558\n",
            "Epoch 71/100\n",
            "35/35 [==============================] - 4s 104ms/step - loss: 0.0839 - accuracy: 0.9688 - val_loss: 0.1370 - val_accuracy: 0.9544\n",
            "Epoch 72/100\n",
            "35/35 [==============================] - 4s 103ms/step - loss: 0.0812 - accuracy: 0.9728 - val_loss: 0.1325 - val_accuracy: 0.9572\n",
            "Epoch 73/100\n",
            "35/35 [==============================] - 4s 104ms/step - loss: 0.0787 - accuracy: 0.9699 - val_loss: 0.1317 - val_accuracy: 0.9501\n",
            "Epoch 74/100\n",
            "35/35 [==============================] - 4s 103ms/step - loss: 0.0721 - accuracy: 0.9732 - val_loss: 0.1307 - val_accuracy: 0.9515\n",
            "Epoch 75/100\n",
            "35/35 [==============================] - 4s 104ms/step - loss: 0.0822 - accuracy: 0.9655 - val_loss: 0.1407 - val_accuracy: 0.9529\n",
            "Epoch 76/100\n",
            "35/35 [==============================] - 4s 103ms/step - loss: 0.0795 - accuracy: 0.9736 - val_loss: 0.1470 - val_accuracy: 0.9486\n",
            "Epoch 77/100\n",
            "35/35 [==============================] - 4s 105ms/step - loss: 0.1060 - accuracy: 0.9589 - val_loss: 0.1438 - val_accuracy: 0.9544\n",
            "Epoch 78/100\n",
            "35/35 [==============================] - 4s 104ms/step - loss: 0.0928 - accuracy: 0.9662 - val_loss: 0.1238 - val_accuracy: 0.9515\n",
            "Epoch 79/100\n",
            "35/35 [==============================] - 4s 105ms/step - loss: 0.0721 - accuracy: 0.9769 - val_loss: 0.1273 - val_accuracy: 0.9558\n",
            "Epoch 80/100\n",
            "35/35 [==============================] - 4s 103ms/step - loss: 0.0672 - accuracy: 0.9736 - val_loss: 0.1440 - val_accuracy: 0.9544\n",
            "Epoch 81/100\n",
            "35/35 [==============================] - 4s 103ms/step - loss: 0.0830 - accuracy: 0.9725 - val_loss: 0.1288 - val_accuracy: 0.9572\n",
            "Epoch 82/100\n",
            "35/35 [==============================] - 4s 104ms/step - loss: 0.0751 - accuracy: 0.9717 - val_loss: 0.1299 - val_accuracy: 0.9615\n",
            "Epoch 83/100\n",
            "35/35 [==============================] - 4s 105ms/step - loss: 0.0772 - accuracy: 0.9721 - val_loss: 0.1493 - val_accuracy: 0.9544\n",
            "Epoch 84/100\n",
            "35/35 [==============================] - 4s 104ms/step - loss: 0.0721 - accuracy: 0.9714 - val_loss: 0.1321 - val_accuracy: 0.9572\n",
            "Epoch 85/100\n",
            "35/35 [==============================] - 4s 103ms/step - loss: 0.0880 - accuracy: 0.9684 - val_loss: 0.1351 - val_accuracy: 0.9558\n",
            "Epoch 86/100\n",
            "35/35 [==============================] - 4s 103ms/step - loss: 0.0756 - accuracy: 0.9732 - val_loss: 0.1740 - val_accuracy: 0.9515\n",
            "Epoch 87/100\n",
            "35/35 [==============================] - 4s 103ms/step - loss: 0.0822 - accuracy: 0.9673 - val_loss: 0.1507 - val_accuracy: 0.9529\n",
            "Epoch 88/100\n",
            "35/35 [==============================] - 4s 103ms/step - loss: 0.0666 - accuracy: 0.9739 - val_loss: 0.1390 - val_accuracy: 0.9515\n",
            "Epoch 89/100\n",
            "35/35 [==============================] - 4s 104ms/step - loss: 0.0715 - accuracy: 0.9736 - val_loss: 0.1310 - val_accuracy: 0.9544\n",
            "Epoch 90/100\n",
            "35/35 [==============================] - 4s 104ms/step - loss: 0.1679 - accuracy: 0.9336 - val_loss: 0.1448 - val_accuracy: 0.9515\n",
            "Epoch 91/100\n",
            "35/35 [==============================] - 4s 104ms/step - loss: 0.1028 - accuracy: 0.9578 - val_loss: 0.1317 - val_accuracy: 0.9529\n",
            "Epoch 92/100\n",
            "35/35 [==============================] - 4s 104ms/step - loss: 0.0959 - accuracy: 0.9651 - val_loss: 0.1385 - val_accuracy: 0.9544\n",
            "Epoch 93/100\n",
            "35/35 [==============================] - 4s 105ms/step - loss: 0.0853 - accuracy: 0.9684 - val_loss: 0.1480 - val_accuracy: 0.9558\n",
            "Epoch 94/100\n",
            "35/35 [==============================] - 4s 105ms/step - loss: 0.0730 - accuracy: 0.9736 - val_loss: 0.1451 - val_accuracy: 0.9558\n",
            "Epoch 95/100\n",
            "35/35 [==============================] - 4s 103ms/step - loss: 0.0873 - accuracy: 0.9688 - val_loss: 0.1380 - val_accuracy: 0.9529\n",
            "Epoch 96/100\n",
            "35/35 [==============================] - 4s 105ms/step - loss: 0.0668 - accuracy: 0.9732 - val_loss: 0.1193 - val_accuracy: 0.9572\n",
            "Epoch 97/100\n",
            "35/35 [==============================] - 4s 103ms/step - loss: 0.0598 - accuracy: 0.9787 - val_loss: 0.1546 - val_accuracy: 0.9529\n",
            "Epoch 98/100\n",
            "35/35 [==============================] - 4s 103ms/step - loss: 0.0783 - accuracy: 0.9728 - val_loss: 0.1298 - val_accuracy: 0.9529\n",
            "Epoch 99/100\n",
            "35/35 [==============================] - 4s 104ms/step - loss: 0.0823 - accuracy: 0.9725 - val_loss: 0.1407 - val_accuracy: 0.9601\n",
            "Epoch 100/100\n",
            "35/35 [==============================] - 4s 104ms/step - loss: 0.0760 - accuracy: 0.9728 - val_loss: 0.1269 - val_accuracy: 0.9472\n"
          ]
        }
      ],
      "source": [
        "model = my_Model()\n",
        "print(model.summary())\n",
        "# FITTING\n",
        "history = model.fit(dataGen.flow(X_train, y_train, batch_size=batch_size_val),steps_per_epoch= len(X_train)//batch_size_val, epochs=epochs_val,validation_data=(X_validation, y_validation), shuffle=1)"
      ]
    },
    {
      "cell_type": "code",
      "execution_count": null,
      "id": "c757b7ff",
      "metadata": {
        "id": "c757b7ff",
        "outputId": "923828c4-1676-4c62-f2df-e3662ae3ed76",
        "colab": {
          "base_uri": "https://localhost:8080/",
          "height": 573
        }
      },
      "outputs": [
        {
          "output_type": "display_data",
          "data": {
            "text/plain": [
              "<Figure size 432x288 with 1 Axes>"
            ],
            "image/png": "[encoded data removed]"
          },
          "metadata": {
            "needs_background": "light"
          }
        },
        {
          "output_type": "display_data",
          "data": {
            "text/plain": [
              "<Figure size 432x288 with 1 Axes>"
            ],
            "image/png": "[encoded data removed]"
          },
          "metadata": {
            "needs_background": "light"
          }
        }
      ],
      "source": [
        "# PLOT\n",
        "plt.figure(0)\n",
        "plt.plot(history.history['loss'])\n",
        "plt.plot(history.history['val_loss'])\n",
        "plt.legend(['training','validation'])\n",
        "plt.title('loss')\n",
        "plt.xlabel('epoch')\n",
        "\n",
        "\n",
        "plt.figure(1)\n",
        "plt.plot(history.history['accuracy'])\n",
        "plt.plot(history.history['val_accuracy'])\n",
        "plt.legend(['training','validation'])\n",
        "plt.title('Accuracy')\n",
        "plt.xlabel('epoch')\n",
        "plt.show()\n"
      ]
    },
    {
      "cell_type": "code",
      "execution_count": null,
      "id": "48f7bb4b",
      "metadata": {
        "id": "48f7bb4b",
        "outputId": "7e3e3f0e-8992-4199-96f8-7752ba0c492c",
        "colab": {
          "base_uri": "https://localhost:8080/"
        }
      },
      "outputs": [
        {
          "output_type": "stream",
          "name": "stdout",
          "text": [
            "28/28 [==============================] - 1s 26ms/step - loss: 0.1169 - accuracy: 0.9532\n",
            "loss: 0.11690045893192291\n",
            "accuracy: 0.9532496929168701\n"
          ]
        }
      ],
      "source": [
        "# Evaluate model on test data.\n",
        "score = model.evaluate(X_test,\n",
        "                       y_test,\n",
        "                       verbose=1)\n",
        "\n",
        "labels = model.metrics_names\n",
        "\n",
        "# Show model performance.\n",
        "print(f'{labels[0]}: {score[0]}')\n",
        "print(f'{labels[1]}: {score[1]}')"
      ]
    },
    {
      "cell_type": "markdown",
      "id": "5d7dbf30",
      "metadata": {
        "id": "5d7dbf30"
      },
      "source": [
        "# SAVING MODEL"
      ]
    },
    {
      "cell_type": "code",
      "execution_count": null,
      "id": "bdf07e4e",
      "metadata": {
        "id": "bdf07e4e"
      },
      "outputs": [],
      "source": [
        "# Directory to save\n",
        "os.chdir('/content/drive/MyDrive/ML_final')"
      ]
    },
    {
      "cell_type": "code",
      "execution_count": null,
      "id": "0df40c02",
      "metadata": {
        "id": "0df40c02"
      },
      "outputs": [],
      "source": [
        "model.save(\"drowiness_new7.h5\")"
      ]
    },
    {
      "cell_type": "code",
      "source": [
        "model.save(\"drowiness_new7.model\")"
      ],
      "metadata": {
        "colab": {
          "base_uri": "https://localhost:8080/"
        },
        "id": "TRXhAglHaOTr",
        "outputId": "412c062f-d133-4cb9-f677-8e50c9ca810d"
      },
      "id": "TRXhAglHaOTr",
      "execution_count": null,
      "outputs": [
        {
          "output_type": "stream",
          "name": "stdout",
          "text": [
            "INFO:tensorflow:Assets written to: drowiness_new7.model/assets\n"
          ]
        }
      ]
    }
  ],
  "metadata": {
    "kernelspec": {
      "display_name": "Python 3",
      "language": "python",
      "name": "python3"
    },
    "language_info": {
      "codemirror_mode": {
        "name": "ipython",
        "version": 3
      },
      "file_extension": ".py",
      "mimetype": "text/x-python",
      "name": "python",
      "nbconvert_exporter": "python",
      "pygments_lexer": "ipython3",
      "version": "3.8.8"
    },
    "colab": {
      "name": "Driver Drowsiness Detection using CNN.ipynb",
      "provenance": []
    },
    "accelerator": "GPU"
  },
  "nbformat": 4,
  "nbformat_minor": 5
}
